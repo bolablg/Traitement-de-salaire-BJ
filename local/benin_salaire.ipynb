{
 "cells": [
  {
   "cell_type": "code",
   "execution_count": 1,
   "id": "0b2d8ffc",
   "metadata": {},
   "outputs": [],
   "source": [
    "from tabulate import tabulate"
   ]
  },
  {
   "cell_type": "markdown",
   "id": "509d831b",
   "metadata": {},
   "source": [
    "# --- Configuration ---"
   ]
  },
  {
   "cell_type": "code",
   "execution_count": 2,
   "id": "ce3898e0",
   "metadata": {},
   "outputs": [],
   "source": [
    "paliers = [\n",
    "    {\"min\": 0, \"max\": 60000, \"rate\": 0.0},\n",
    "    {\"min\": 60000, \"max\": 150000, \"rate\": 0.1},\n",
    "    {\"min\": 150000, \"max\": 250000, \"rate\": 0.15},\n",
    "    {\"min\": 250000, \"max\": 500000, \"rate\": 0.19},\n",
    "    {\"min\": 500000, \"max\": float('inf'), \"rate\": 0.3}\n",
    "]"
   ]
  },
  {
   "cell_type": "code",
   "execution_count": 3,
   "id": "ab21de7d",
   "metadata": {},
   "outputs": [],
   "source": [
    "taux_cnss = 0.036 # Taux de la CNSS (Caisse Nationale de Sécurité Sociale) = 3.6%"
   ]
  },
  {
   "cell_type": "markdown",
   "id": "e2873709",
   "metadata": {},
   "source": [
    "# --- Fonctions fiscales ---"
   ]
  },
  {
   "cell_type": "code",
   "execution_count": null,
   "id": "72ae0c1e",
   "metadata": {},
   "outputs": [],
   "source": [
    "def calculate_tax_details(gross_salary):\n",
    "\n",
    "    if (isinstance(gross_salary, float) or isinstance(gross_salary, int)) and gross_salary >= 0:\n",
    "\n",
    "        remaining = gross_salary\n",
    "        tax_details = []\n",
    "        total_tax = 0\n",
    "        social_contribution = gross_salary * taux_cnss\n",
    "        total_tax += social_contribution\n",
    "\n",
    "        for bracket in paliers:\n",
    "            if remaining <= 0:\n",
    "                break\n",
    "            bracket_min = bracket[\"min\"]\n",
    "            bracket_max = bracket[\"max\"]\n",
    "            rate = bracket[\"rate\"]\n",
    "\n",
    "            taxable_in_bracket = min(remaining, bracket_max - bracket_min) if bracket_max != float('inf') else remaining\n",
    "            \n",
    "            if remaining > bracket_min:\n",
    "                taxable_in_bracket = min(remaining - bracket_min, taxable_in_bracket)\n",
    "            else:\n",
    "                taxable_in_bracket = 0\n",
    "\n",
    "            if taxable_in_bracket > 0:\n",
    "                tax_in_bracket = taxable_in_bracket * rate\n",
    "                tax_details.append({\n",
    "                    \"tranche\": (\n",
    "                        f\"<= {bracket_max:,} fCFA\" if bracket_min == 0 else\n",
    "                        f\"> {bracket_min:,} fCFA\" if bracket_max == float('inf') else\n",
    "                        f\"{bracket_min:,} - {bracket_max:,} fCFA\"\n",
    "                    ),\n",
    "                    \"taux\": f\"{rate*100:.0f}%\",\n",
    "                    \"montant_imposable\": round(taxable_in_bracket),\n",
    "                    \"impot\": round(tax_in_bracket)\n",
    "                })\n",
    "                total_tax += tax_in_bracket\n",
    "\n",
    "        net_salary = gross_salary - total_tax\n",
    "\n",
    "        result = {\n",
    "            \"salaire_brut\": round(gross_salary),\n",
    "            \"details_cotisations\": [{\"libelle\": \"Cotisation sociale\", \"taux\": f\"{taux_cnss*100:.1f}%\", \"montant\": round(social_contribution)}],\n",
    "            \"details_impot\": tax_details,\n",
    "            \"total_cotisations\": round(social_contribution),\n",
    "            \"total_impot\": round(total_tax - social_contribution),\n",
    "            \"total_prelevements\": round(total_tax),\n",
    "            \"salaire_net\": round(net_salary)\n",
    "        }\n",
    "\n",
    "        print(f\"\\nSalaire brut: {result['salaire_brut']:,} fCFA\\n\")\n",
    "\n",
    "        print(\"Détail des cotisations:\")\n",
    "        cot_table = [[c['libelle'], c['taux'], f\"{c['montant']:,} fCFA\"] for c in result[\"details_cotisations\"]]\n",
    "        print(tabulate(cot_table, headers=[\"Libellé\", \"Taux\", \"Montant\"], tablefmt=\"grid\"))\n",
    "\n",
    "        print(\"\\nDétail des impôts par tranche:\")\n",
    "        imp_table = [[i['tranche'], i['taux'], f\"{i['montant_imposable']:,}\", f\"{i['impot']:,}\"] for i in result[\"details_impot\"]]\n",
    "        print(tabulate(imp_table, headers=[\"Tranche\", \"Taux\", \"Montant imposable\", \"Impôt\"], tablefmt=\"grid\"))\n",
    "\n",
    "        print(f\"\\nTotal cotisations: {result['total_cotisations']:,} fCFA\")\n",
    "        print(f\"Total impôt: {result['total_impot']:,} fCFA\")\n",
    "        print(f\"Total prélèvements: {result['total_prelevements']:,} fCFA\")\n",
    "        print(f\"Salaire net: {result['salaire_net']:,} fCFA\")\n",
    "    else:\n",
    "        print(\"Le salaire brut doit être un nombre positif (float ou int). Veuillez réessayer avec une valeur valide.\")"
   ]
  },
  {
   "cell_type": "code",
   "execution_count": null,
   "id": "f1a8eb75",
   "metadata": {},
   "outputs": [],
   "source": [
    "def calculate_gross_from_net(desired_net):\n",
    "    \n",
    "    if (isinstance(desired_net, float) or isinstance(desired_net, int)) and desired_net >= 0:\n",
    "        def estimate_gross(net):\n",
    "            gross = net * (1 + taux_cnss)\n",
    "            tolerance = 1\n",
    "            max_iterations = 100\n",
    "            iteration = 0\n",
    "            while iteration < max_iterations:\n",
    "                tax_info = calculate_tax_details(gross)\n",
    "                diff = tax_info[\"salaire_net\"] - net\n",
    "                if abs(diff) <= tolerance:\n",
    "                    return gross\n",
    "                adjustment = max(abs(diff), 1000)\n",
    "                gross += adjustment if diff < 0 else -adjustment\n",
    "                iteration += 1\n",
    "            return gross\n",
    "\n",
    "        estimated_gross = estimate_gross(desired_net)\n",
    "        tax_details = calculate_tax_details(estimated_gross)\n",
    "        \n",
    "        result = {\n",
    "            \"salaire_net_desire\": round(desired_net),\n",
    "            \"salaire_brut_requis\": round(estimated_gross),\n",
    "            \"details_cotisations\": tax_details[\"details_cotisations\"],\n",
    "            \"details_impot\": tax_details[\"details_impot\"],\n",
    "            \"total_cotisations\": tax_details[\"total_cotisations\"],\n",
    "            \"total_impot\": tax_details[\"total_impot\"],\n",
    "            \"total_prelevements\": tax_details[\"total_prelevements\"]\n",
    "        }\n",
    "\n",
    "        print(f\"\\nSalaire net désiré: {result['salaire_net_desire']:,} fCFA\")\n",
    "        print(f\"Salaire brut estimé à demander: {result['salaire_brut_requis']:,} fCFA\\n\")\n",
    "\n",
    "        print(\"Détail des cotisations estimées:\")\n",
    "        cot_table = [[c['libelle'], c['taux'], f\"{c['montant']:,} fCFA\"] for c in result[\"details_cotisations\"]]\n",
    "        print(tabulate(cot_table, headers=[\"Libellé\", \"Taux\", \"Montant\"], tablefmt=\"grid\"))\n",
    "\n",
    "        print(\"\\nDétail des impôts estimés par tranche:\")\n",
    "        imp_table = [[i['tranche'], i['taux'], f\"{i['montant_imposable']:,}\", f\"{i['impot']:,}\"] for i in result[\"details_impot\"]]\n",
    "        print(tabulate(imp_table, headers=[\"Tranche\", \"Taux\", \"Montant imposable\", \"Impôt\"], tablefmt=\"grid\"))\n",
    "\n",
    "        print(f\"\\nTotal cotisations estimées: {result['total_cotisations']:,} fCFA\")\n",
    "        print(f\"Total impôt estimé: {result['total_impot']:,} fCFA\")\n",
    "        print(f\"Total prélèvements estimés: {result['total_prelevements']:,} fCFA\")\n",
    "    else:\n",
    "        print(\"Le salaire net désiré doit être un nombre positif (float ou int). Veuillez réessayer avec une valeur valide.\")"
   ]
  },
  {
   "cell_type": "markdown",
   "id": "b3066c7b",
   "metadata": {},
   "source": [
    "# --- Fonction Principale ---"
   ]
  },
  {
   "cell_type": "code",
   "execution_count": 6,
   "id": "b4f4ecda",
   "metadata": {},
   "outputs": [],
   "source": [
    "def benin_its_main():\n",
    "    print(\"Calculateur d'impôt et de cotisations sociales au Bénin\")\n",
    "    print(\"1. Calculer les détails pour un salaire brut\")\n",
    "    print(\"2. Estimer le salaire brut à demander pour un salaire net désiré\")\n",
    "    choice = input(\"Choisissez une option (1 ou 2): \")\n",
    "\n",
    "    if choice == \"1\":\n",
    "        gross_salary = float(input(\"Entrez le salaire brut en fCFA: \"))\n",
    "        calculate_tax_details(gross_salary)\n",
    "    elif choice == \"2\":\n",
    "        desired_net = float(input(\"Entrez le salaire net désiré en fCFA: \"))\n",
    "        calculate_gross_from_net(desired_net)\n",
    "    else:\n",
    "        print(\"Option invalide. Veuillez choisir 1 ou 2.\")"
   ]
  },
  {
   "cell_type": "markdown",
   "id": "313619d3",
   "metadata": {},
   "source": [
    "# --- Usage ---"
   ]
  },
  {
   "cell_type": "code",
   "execution_count": 7,
   "id": "3d70a555",
   "metadata": {},
   "outputs": [
    {
     "name": "stdout",
     "output_type": "stream",
     "text": [
      "Calculateur d'impôt et de cotisations sociales au Bénin\n",
      "1. Calculer les détails pour un salaire brut\n",
      "2. Estimer le salaire brut à demander pour un salaire net désiré\n",
      "\n",
      "Salaire brut: 2,000,000 fCFA\n",
      "\n",
      "Détail des cotisations:\n",
      "+--------------------+--------+-------------+\n",
      "| Libellé            | Taux   | Montant     |\n",
      "+====================+========+=============+\n",
      "| Cotisation sociale | 3.6%   | 72,000 fCFA |\n",
      "+--------------------+--------+-------------+\n",
      "\n",
      "Détail des impôts par tranche:\n",
      "+------------------------+--------+---------------------+---------+\n",
      "| Tranche                | Taux   | Montant imposable   | Impôt   |\n",
      "+========================+========+=====================+=========+\n",
      "| <= 60,000 fCFA         | 0%     | 60,000              | 0       |\n",
      "+------------------------+--------+---------------------+---------+\n",
      "| 60,000 - 150,000 fCFA  | 10%    | 90,000              | 9,000   |\n",
      "+------------------------+--------+---------------------+---------+\n",
      "| 150,000 - 250,000 fCFA | 15%    | 100,000             | 15,000  |\n",
      "+------------------------+--------+---------------------+---------+\n",
      "| 250,000 - 500,000 fCFA | 19%    | 250,000             | 47,500  |\n",
      "+------------------------+--------+---------------------+---------+\n",
      "| > 500,000 fCFA         | 30%    | 1,500,000           | 450,000 |\n",
      "+------------------------+--------+---------------------+---------+\n",
      "\n",
      "Total cotisations: 72,000 fCFA\n",
      "Total impôt: 521,500 fCFA\n",
      "Total prélèvements: 593,500 fCFA\n",
      "Salaire net: 1,406,500 fCFA\n"
     ]
    }
   ],
   "source": [
    "benin_its_main()"
   ]
  }
 ],
 "metadata": {
  "kernelspec": {
   "display_name": "base",
   "language": "python",
   "name": "python3"
  },
  "language_info": {
   "codemirror_mode": {
    "name": "ipython",
    "version": 3
   },
   "file_extension": ".py",
   "mimetype": "text/x-python",
   "name": "python",
   "nbconvert_exporter": "python",
   "pygments_lexer": "ipython3",
   "version": "3.12.7"
  }
 },
 "nbformat": 4,
 "nbformat_minor": 5
}
